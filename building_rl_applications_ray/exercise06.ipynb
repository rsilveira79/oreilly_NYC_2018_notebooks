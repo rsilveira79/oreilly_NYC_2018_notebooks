{
 "cells": [
  {
   "cell_type": "markdown",
   "metadata": {},
   "source": [
    "# Exercise 6 - Process Tasks in Order of Completion\n",
    "\n",
    "**GOAL:** The goal of this exercise is to show how to use `ray.wait` to process tasks in the order that they finish.\n",
    "\n",
    "See the documentation for ray.wait at http://ray.readthedocs.io/en/latest/api.html#waiting-for-a-subset-of-tasks-to-finish.\n",
    "\n",
    "The code below runs 10 tasks and retrieves the results in the order that the tasks were launched. However, since each task takes a random amount of time to finish, we could instead process the tasks in the order that they finish."
   ]
  },
  {
   "cell_type": "code",
   "execution_count": 1,
   "metadata": {
    "collapsed": true
   },
   "outputs": [],
   "source": [
    "from __future__ import absolute_import\n",
    "from __future__ import division\n",
    "from __future__ import print_function\n",
    "\n",
    "import numpy as np\n",
    "import ray\n",
    "import time"
   ]
  },
  {
   "cell_type": "code",
   "execution_count": 2,
   "metadata": {},
   "outputs": [
    {
     "name": "stdout",
     "output_type": "stream",
     "text": [
      "Process STDOUT and STDERR is being redirected to /tmp/raylogs/.\n",
      "Waiting for redis server at 127.0.0.1:38663 to respond...\n",
      "Waiting for redis server at 127.0.0.1:28883 to respond...\n",
      "Warning: Reducing object store memory because /dev/shm has only 67042050048 bytes available. You may be able to free up space by deleting files in /dev/shm. If you are inside a Docker container, you may need to pass an argument with the flag '--shm-size' to 'docker run'.\n",
      "Starting local scheduler with the following resources: {'CPU': 5, 'GPU': 0}.\n",
      "\n",
      "======================================================================\n",
      "View the web UI at http://localhost:8894/notebooks/ray_ui53433.ipynb?token=d3c070986b12254cca7f9fe6f097342afb6acef634604abf\n",
      "======================================================================\n",
      "\n"
     ]
    },
    {
     "data": {
      "text/plain": [
       "{'local_scheduler_socket_names': ['/tmp/scheduler64259118'],\n",
       " 'node_ip_address': '172.17.0.2',\n",
       " 'object_store_addresses': [ObjectStoreAddress(name='/tmp/plasma_store22321798', manager_name='/tmp/plasma_manager57038259', manager_port=32339)],\n",
       " 'raylet_socket_names': [],\n",
       " 'redis_address': '172.17.0.2:38663',\n",
       " 'webui_url': 'http://localhost:8894/notebooks/ray_ui53433.ipynb?token=d3c070986b12254cca7f9fe6f097342afb6acef634604abf'}"
      ]
     },
     "execution_count": 2,
     "metadata": {},
     "output_type": "execute_result"
    }
   ],
   "source": [
    "ray.init(num_cpus=5, redirect_output=True)"
   ]
  },
  {
   "cell_type": "code",
   "execution_count": 3,
   "metadata": {
    "collapsed": true
   },
   "outputs": [],
   "source": [
    "@ray.remote\n",
    "def f():\n",
    "    time.sleep(np.random.uniform(0, 5))\n",
    "    return time.time()"
   ]
  },
  {
   "cell_type": "markdown",
   "metadata": {},
   "source": [
    "**EXERCISE:** Change the code below to use `ray.wait` to get the results of the tasks in the order that they complete.\n",
    "\n",
    "**NOTE:** It would be a simple modification to maintain a pool of 10 experiments and to start a new experiment whenever one finishes."
   ]
  },
  {
   "cell_type": "code",
   "execution_count": 19,
   "metadata": {},
   "outputs": [
    {
     "name": "stdout",
     "output_type": "stream",
     "text": [
      "--------------------\n",
      "Processing ObjectID(bef0c615111987a0ec13d7a1fc647ce41e467667) result finished after 1.7210731506347656 seconds.\n",
      "Processing ObjectID(9ae8db2c9f09e9bc9993393bca2ae9699ed779f1) result finished after 2.595484733581543 seconds.\n",
      "Processing ObjectID(87f97c17b45fa24162eb8d2515905f9c7d4d53c6) result finished after 4.469526290893555 seconds.\n",
      "Processing ObjectID(d651e2573d2dbb35eb265e456e2db9de42b82cb0) result finished after 1.5424232482910156 seconds.\n",
      "Processing ObjectID(e036e5c97beab34003124d0d3723c018c5e2a56d) result finished after 2.8313965797424316 seconds.\n",
      "Processing ObjectID(cd54ad4e78ec452aeb66a49f47867b7dec1faf8d) result finished after 5.239848375320435 seconds.\n",
      "Processing ObjectID(6a102450b6970ab0bfebc33f850ecbb414566901) result finished after 2.8058509826660156 seconds.\n",
      "Processing ObjectID(9e3672a606eb4b2829bbddc055f1d65253637895) result finished after 7.407268047332764 seconds.\n",
      "Processing ObjectID(c6c704530c06a2336ef919f3f97035969f168ed3) result finished after 6.759845972061157 seconds.\n",
      "Processing ObjectID(be0483f76adad32f5f6fb54ea263f807cdd79b40) result finished after 7.303696870803833 seconds.\n"
     ]
    }
   ],
   "source": [
    "# Sleep a little to improve the accuracy of the timing measurements below.\n",
    "time.sleep(2.0)\n",
    "start_time = time.time()\n",
    "\n",
    "result_ids = [f.remote() for _ in range(10)]\n",
    "\n",
    "# Get the results.\n",
    "results = []\n",
    "first_results, _ = ray.wait(result_ids, num_returns=10)\n",
    "print(\"-\"*20)\n",
    "for result_id in result_ids:\n",
    "    result = ray.get(result_id)\n",
    "    #result, _ = ray.wait(result_id, num_returns=1)\n",
    "    #result = ray.get(result)\n",
    "    results.append(result)\n",
    "    print('Processing {} result finished after {} seconds.'\n",
    "          .format(result_id,(result - start_time)))\n",
    "\n",
    "results = [first_results]\n",
    "end_time = time.time()\n",
    "duration = end_time - start_time"
   ]
  },
  {
   "cell_type": "markdown",
   "metadata": {},
   "source": [
    "**VERIFY:** Run some checks to verify that the changes you made to the code were correct. Some of the checks should fail when you initially run the cells. After completing the exercises, the checks should pass."
   ]
  },
  {
   "cell_type": "code",
   "execution_count": 20,
   "metadata": {},
   "outputs": [
    {
     "name": "stdout",
     "output_type": "stream",
     "text": [
      "Success! The example took 7.41782808303833 seconds.\n"
     ]
    }
   ],
   "source": [
    "assert results == sorted(results), ('The results were not processed in the '\n",
    "                                    'order that they finished.')\n",
    "\n",
    "print('Success! The example took {} seconds.'.format(duration))"
   ]
  },
  {
   "cell_type": "code",
   "execution_count": null,
   "metadata": {
    "collapsed": true
   },
   "outputs": [],
   "source": []
  }
 ],
 "metadata": {
  "kernelspec": {
   "display_name": "Python 3",
   "language": "python",
   "name": "python3"
  },
  "language_info": {
   "codemirror_mode": {
    "name": "ipython",
    "version": 3
   },
   "file_extension": ".py",
   "mimetype": "text/x-python",
   "name": "python",
   "nbconvert_exporter": "python",
   "pygments_lexer": "ipython3",
   "version": "3.6.2"
  }
 },
 "nbformat": 4,
 "nbformat_minor": 2
}
